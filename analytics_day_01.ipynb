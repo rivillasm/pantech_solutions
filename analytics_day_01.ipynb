{
 "cells": [
  {
   "cell_type": "markdown",
   "id": "d7c52871-6e31-469a-aa29-6775ea3a476a",
   "metadata": {},
   "source": [
    "# ANALYTICS\n",
    "\n",
    "https://learn.pantechsolutions.net/courses/1459836/lectures/33464070"
   ]
  },
  {
   "cell_type": "code",
   "execution_count": null,
   "id": "0236993f-524f-4ef9-a119-73ae217f70cc",
   "metadata": {},
   "outputs": [],
   "source": []
  }
 ],
 "metadata": {
  "kernelspec": {
   "display_name": "Python 3 (ipykernel)",
   "language": "python",
   "name": "python3"
  },
  "language_info": {
   "codemirror_mode": {
    "name": "ipython",
    "version": 3
   },
   "file_extension": ".py",
   "mimetype": "text/x-python",
   "name": "python",
   "nbconvert_exporter": "python",
   "pygments_lexer": "ipython3",
   "version": "3.9.13"
  }
 },
 "nbformat": 4,
 "nbformat_minor": 5
}
